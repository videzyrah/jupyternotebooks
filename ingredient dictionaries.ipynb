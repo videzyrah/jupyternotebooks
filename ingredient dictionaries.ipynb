{
 "cells": [
  {
   "cell_type": "code",
   "execution_count": 2,
   "metadata": {},
   "outputs": [
    {
     "name": "stdout",
     "output_type": "stream",
     "text": [
      "Current Hamburger Price $2.06\n",
      "Current Chicken Sandwich Price $1.93\n"
     ]
    }
   ],
   "source": [
    "#Recipes with ingredients all with quantity of \"one\".\n",
    "tomatoSlice = {\"marketUnitPrice\" : 2.99,  \"marketUnit\" : \"$/lb\", \"recipeUnitConversion\": 0.125, \"conversion\": \"1 lb/ 8 slice\"}\n",
    "burgerBun = {\"marketUnitPrice\" : 2.99,  \"marketUnit\" : \"$/bag\", \"recipeUnitConversion\": 0.125, \"conversion\": \"1 bag/ 8 bun\"}\n",
    "cheeseSlice = {\"marketUnitPrice\" : 4.99,  \"marketUnit\" : \"$/lb\", \"recipeUnitConversion\": 0.0625, \"conversion\": \"1 lb/ 16 slice\"}\n",
    "burgerPatty = {\"marketUnitPrice\" : 3.99,  \"marketUnit\" : \"$/box\", \"recipeUnitConversion\": 0.25, \"conversion\": \"1 box / 4 patty\"}\n",
    "chickenPatty = {\"marketUnitPrice\" : 3.49,  \"marketUnit\" : \"$/box\", \"recipeUnitConversion\": 0.25, \"conversion\": \"1 box / 4 patty\"}\n",
    "\n",
    "burger = [tomatoSlice, burgerBun, cheeseSlice, burgerPatty] \n",
    "chickFilA = [tomatoSlice, burgerBun, cheeseSlice, chickenPatty]\n",
    "\n",
    "def sandwichPrice(name, sandwichIngredients):\n",
    "    #initializing sandwich price \n",
    "    sp = 0\n",
    "    \n",
    "    for i in sandwichIngredients:\n",
    "        #ingredient price = ip\n",
    "        ip = i[\"marketUnitPrice\"] *i[\"recipeUnitConversion\"]\n",
    "        #sandwich price\n",
    "        sp = ip + sp\n",
    "    print (str(name) + \"$\" + str(round(sp, 2)))\n",
    "\n",
    "sandwichPrice(\"Current Hamburger Price \", burger)\n",
    "sandwichPrice(\"Current Chicken Sandwich Price \", chickFilA)\n",
    "\n",
    "\n",
    "\n"
   ]
  },
  {
   "cell_type": "code",
   "execution_count": 15,
   "metadata": {},
   "outputs": [
    {
     "name": "stdout",
     "output_type": "stream",
     "text": [
      "Today's Single Burger No Cheese Cost : $1.75\n",
      "Today's Double CheeseBurger Cost : $3.37\n",
      "Today's Chicken Sandwich Cost : $1.56\n"
     ]
    }
   ],
   "source": [
    "#Ingredients with quantity multipliers, i.e. two slices of cheese.\n",
    "tomatoSlice = {\"marketUnitPrice\" : 2.99,  \"marketUnit\" : \"$/lb\", \"recipeUnitConversion\": 0.125, \"conversion\": \"1 lb/ 8 slice\"}\n",
    "sandwichBun = {\"marketUnitPrice\" : 2.99,  \"marketUnit\" : \"$/bag\", \"recipeUnitConversion\": 0.125, \"conversion\": \"1 bag/ 8 bun\"}\n",
    "cheeseSlice = {\"marketUnitPrice\" : 4.99,  \"marketUnit\" : \"$/lb\", \"recipeUnitConversion\": 0.0625, \"conversion\": \"1 lb/ 16 slice\"}\n",
    "burgerPatty = {\"marketUnitPrice\" : 3.99,  \"marketUnit\" : \"$/box\", \"recipeUnitConversion\": 0.25, \"conversion\": \"1 box / 4 patty\"}\n",
    "chickenPatty = {\"marketUnitPrice\" : 3.49,  \"marketUnit\" : \"$/box\", \"recipeUnitConversion\": 0.25, \"conversion\": \"1 box / 4 patty\"}\n",
    "\n",
    "burger = [tomatoSlice, sandwichBun, cheeseSlice, burgerPatty]\n",
    "chickFilA = [tomatoSlice, sandwichBun, cheeseSlice, chickenPatty]\n",
    "#corresponding ingredient quantities (multiplication factors) = q\n",
    "singleBurgerQ = [1, 1, 0, 1]\n",
    "doubleCheeseBurgerQ = [1, 1, 2, 2]\n",
    "simpleChickQ = [0, 1, 1, 1]\n",
    "\n",
    "\n",
    "\n",
    "def sandwichCost(name, sandwichIngredients, quantities):\n",
    "    #initializing sandwich price \n",
    "    sp = 0\n",
    "    x = 0\n",
    "    for i in sandwichIngredients:\n",
    "        #ingredient price = ip\n",
    "        ip = i[\"marketUnitPrice\"] *i[\"recipeUnitConversion\"]\n",
    "        #individual ingredient price total\n",
    "        ipt = ip*quantities[x]\n",
    "        #sandwich price\n",
    "        sp = ipt + sp\n",
    "        x = x + 1\n",
    "    print(str(name)+ \"Cost : $\" + str(round(sp, 2)))\n",
    "\n",
    "sandwichCost(\"Today's \" + \"Single Burger No Cheese \", burger, singleBurgerQ)\n",
    "sandwichCost(\"Today's \" + \"Double CheeseBurger \", burger, doubleCheeseBurgerQ)\n",
    "sandwichCost(\"Today's \" + \"Chicken Sandwich \", chickFilA, simpleChickQ)\n"
   ]
  },
  {
   "cell_type": "markdown",
   "metadata": {},
   "source": [
    "## Converting comma separated elements from string ( database textfield) to list of Floats"
   ]
  },
  {
   "cell_type": "code",
   "execution_count": 1,
   "metadata": {},
   "outputs": [
    {
     "data": {
      "text/plain": [
       "[0.5, 1.0, 0.75]"
      ]
     },
     "execution_count": 1,
     "metadata": {},
     "output_type": "execute_result"
    }
   ],
   "source": [
    "recipeQuantities = \"0.5, 1, 0.75\"\n",
    "def charfieldToFloatList(quantities):\n",
    "    # map applies the float conversion function to all elements in the list created by .split method \n",
    "    return list(map(float, quantities.split(',')))\n",
    "   \n",
    "\n",
    "charfieldToFloatList(recipeQuantities)\n",
    "\n",
    "    "
   ]
  },
  {
   "cell_type": "markdown",
   "metadata": {
    "collapsed": true
   },
   "source": [
    "# List Multiplication without Numpy"
   ]
  },
  {
   "cell_type": "code",
   "execution_count": 31,
   "metadata": {},
   "outputs": [
    {
     "name": "stdout",
     "output_type": "stream",
     "text": [
      "5\n",
      "6\n",
      "14\n",
      "16\n"
     ]
    }
   ],
   "source": [
    "q = [1,1,2,2]\n",
    "x = [5,6,7,8]\n",
    "d=0\n",
    "for i in q: \n",
    "    print (i * x[d])\n",
    "    d= d + 1"
   ]
  },
  {
   "cell_type": "markdown",
   "metadata": {},
   "source": [
    "# Numpy Array multiplication"
   ]
  },
  {
   "cell_type": "code",
   "execution_count": 18,
   "metadata": {},
   "outputs": [
    {
     "name": "stdout",
     "output_type": "stream",
     "text": [
      "[12  4  1]\n"
     ]
    }
   ],
   "source": [
    "import numpy as np\n",
    "x = np.array([3, 2, 1])\n",
    "y = np.array([4, 2 , 1])\n",
    "\n",
    "z = x * y\n",
    "print (z)"
   ]
  },
  {
   "cell_type": "code",
   "execution_count": null,
   "metadata": {
    "collapsed": true
   },
   "outputs": [],
   "source": []
  }
 ],
 "metadata": {
  "kernelspec": {
   "display_name": "Python 3 (ipykernel)",
   "language": "python",
   "name": "python3"
  },
  "language_info": {
   "codemirror_mode": {
    "name": "ipython",
    "version": 3
   },
   "file_extension": ".py",
   "mimetype": "text/x-python",
   "name": "python",
   "nbconvert_exporter": "python",
   "pygments_lexer": "ipython3",
   "version": "3.8.5"
  }
 },
 "nbformat": 4,
 "nbformat_minor": 1
}
