{
 "cells": [
  {
   "cell_type": "code",
   "execution_count": 1,
   "metadata": {
    "collapsed": true
   },
   "outputs": [],
   "source": [
    "import requests"
   ]
  },
  {
   "cell_type": "code",
   "execution_count": 2,
   "metadata": {
    "collapsed": true
   },
   "outputs": [],
   "source": [
    "api_address = 'http://api.openweathermap.org/data/2.5/weather?zip=32605,us&appid=b628c2d30d0bc4fc81ab8695f228859b'\n",
    "json_data = requests.get(api_address).json()\n"
   ]
  },
  {
   "cell_type": "code",
   "execution_count": 3,
   "metadata": {},
   "outputs": [
    {
     "name": "stdout",
     "output_type": "stream",
     "text": [
      "{'id': 420007459, 'weather': [{'icon': '01d', 'id': 800, 'main': 'Clear', 'description': 'clear sky'}], 'base': 'stations', 'visibility': 16093, 'dt': 1524178500, 'name': 'Gainesville', 'wind': {'deg': 230, 'speed': 7.2}, 'clouds': {'all': 1}, 'coord': {'lat': 29.65, 'lon': -82.33}, 'cod': 200, 'main': {'temp_max': 299.15, 'temp': 298.44, 'pressure': 1018, 'humidity': 44, 'temp_min': 297.15}, 'sys': {'id': 661, 'message': 0.004, 'sunrise': 1524135451, 'type': 1, 'sunset': 1524182358, 'country': 'US'}}\n"
     ]
    }
   ],
   "source": [
    "print(json_data)\n"
   ]
  },
  {
   "cell_type": "code",
   "execution_count": 9,
   "metadata": {},
   "outputs": [
    {
     "name": "stdout",
     "output_type": "stream",
     "text": [
      "The current temperature is 77 degrees F.\n"
     ]
    }
   ],
   "source": [
    "temp_kelvin = float(json_data['main']['temp'])\n",
    "temp_farenheit = int((temp_kelvin -273.15) *1.8 + 32)\n",
    "print('The current temperature is ' + str(temp_farenheit) + ' degrees F.')"
   ]
  },
  {
   "cell_type": "code",
   "execution_count": null,
   "metadata": {
    "collapsed": true
   },
   "outputs": [],
   "source": []
  }
 ],
 "metadata": {
  "kernelspec": {
   "display_name": "Python 3 (ipykernel)",
   "language": "python",
   "name": "python3"
  },
  "language_info": {
   "codemirror_mode": {
    "name": "ipython",
    "version": 3
   },
   "file_extension": ".py",
   "mimetype": "text/x-python",
   "name": "python",
   "nbconvert_exporter": "python",
   "pygments_lexer": "ipython3",
   "version": "3.8.5"
  }
 },
 "nbformat": 4,
 "nbformat_minor": 1
}
