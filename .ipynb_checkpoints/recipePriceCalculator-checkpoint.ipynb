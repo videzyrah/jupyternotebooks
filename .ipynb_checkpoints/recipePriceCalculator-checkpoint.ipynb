{
 "cells": [
  {
   "cell_type": "markdown",
   "metadata": {},
   "source": [
    "## Basic Sandwich Cost Calculator"
   ]
  },
  {
   "cell_type": "code",
   "execution_count": 38,
   "metadata": {},
   "outputs": [
    {
     "name": "stdout",
     "output_type": "stream",
     "text": [
      "Current Hamburger Cost $1.93\n",
      "Current Chicken Sandwich w/Cheese Cost $1.81\n"
     ]
    }
   ],
   "source": [
    "#Ingredient data stored in python dictionaries\n",
    "tomatoSlice = {\"marketUnitPrice\" : 1.99,  \"marketUnit\" : \"$/lb\", \"recipeUnitConversion\": 0.125, \"conversion\": \"1 lb/ 8 slice\"}\n",
    "burgerBun = {\"marketUnitPrice\" : 2.99,  \"marketUnit\" : \"$/bag\", \"recipeUnitConversion\": 0.125, \"conversion\": \"1 bag/ 8 bun\"}\n",
    "cheeseSlice = {\"marketUnitPrice\" : 4.99,  \"marketUnit\" : \"$/lb\", \"recipeUnitConversion\": 0.0625, \"conversion\": \"1 lb/ 16 slice\"}\n",
    "burgerPatty = {\"marketUnitPrice\" : 3.99,  \"marketUnit\" : \"$/box\", \"recipeUnitConversion\": 0.25, \"conversion\": \"1 box / 4 patty\"}\n",
    "chickenPatty = {\"marketUnitPrice\" : 3.49,  \"marketUnit\" : \"$/box\", \"recipeUnitConversion\": 0.25, \"conversion\": \"1 box / 4 patty\"}\n",
    "\n",
    "#Sandwich examples where ingredients all have a quantity of \"one\".\n",
    "hamburger = [tomatoSlice, burgerBun, cheeseSlice, burgerPatty] \n",
    "chickFilASandwich = [tomatoSlice, burgerBun, cheeseSlice, chickenPatty]\n",
    "\n",
    "def calculateSandwichCost(description, sandwichIngredients):\n",
    "    #initializing sandwich cost \n",
    "    sandwich_cost = 0\n",
    "    \n",
    "    for ingredient in sandwichIngredients:\n",
    "        ingredient_cost = ingredient[\"marketUnitPrice\"] *ingredient[\"recipeUnitConversion\"]\n",
    "        sandwich_cost = sandwich_cost + ingredient_cost\n",
    "    \n",
    "    print (str(description) + \"$\" + str(round(sandwich_cost, 2)))\n",
    "\n",
    "#Calling sandwichPrice functions, passing in recipes as arguments.\n",
    "calculateSandwichCost(\"Current Hamburger Cost \", hamburger)\n",
    "calculateSandwichCost(\"Current Chicken Sandwich w/Cheese Cost \", chickFilASandwich)\n",
    "\n",
    "\n",
    "\n"
   ]
  },
  {
   "cell_type": "markdown",
   "metadata": {},
   "source": [
    "## Sandwich Cost Calculator with variable quantities of ingredients"
   ]
  },
  {
   "cell_type": "code",
   "execution_count": 40,
   "metadata": {},
   "outputs": [
    {
     "name": "stdout",
     "output_type": "stream",
     "text": [
      "Today's Single Burger No Cheese Cost : $1.62\n",
      "Today's Double CheeseBurger Cost : $3.24\n",
      "Today's Chicken Sandwich no Tomato Cost : $1.56\n"
     ]
    }
   ],
   "source": [
    "#Ingredient data stored in python dictionaries\n",
    "tomatoSlice = {\"marketUnitPrice\" : 1.99,  \"marketUnit\" : \"$/lb\", \"recipeUnitConversion\": 0.125, \"conversion\": \"1 lb/ 8 slice\"}\n",
    "sandwichBun = {\"marketUnitPrice\" : 2.99,  \"marketUnit\" : \"$/bag\", \"recipeUnitConversion\": 0.125, \"conversion\": \"1 bag/ 8 bun\"}\n",
    "cheeseSlice = {\"marketUnitPrice\" : 4.99,  \"marketUnit\" : \"$/lb\", \"recipeUnitConversion\": 0.0625, \"conversion\": \"1 lb/ 16 slice\"}\n",
    "burgerPatty = {\"marketUnitPrice\" : 3.99,  \"marketUnit\" : \"$/box\", \"recipeUnitConversion\": 0.25, \"conversion\": \"1 box / 4 patty\"}\n",
    "chickenPatty = {\"marketUnitPrice\" : 3.49,  \"marketUnit\" : \"$/box\", \"recipeUnitConversion\": 0.25, \"conversion\": \"1 box / 4 patty\"}\n",
    "\n",
    "#sandWichIngredient base templates\n",
    "hamburger = [tomatoSlice, sandwichBun, cheeseSlice, burgerPatty]\n",
    "chickFilASandwich = [tomatoSlice, sandwichBun, cheeseSlice, chickenPatty]\n",
    "#corresponding ingredient quantities (multiplication factors) = q\n",
    "singleBurgerQuantities = [1, 1, 0, 1]\n",
    "doubleCheeseBurgerQuantities = [1, 1, 2, 2]\n",
    "simpleChickQuantities = [0, 1, 1, 1]\n",
    "\n",
    "\n",
    "\n",
    "def calculateSandwichCost(description, sandwichIngredients, quantities):\n",
    "    #initializing sandwich price, iterator  \n",
    "    sandwich_cost = 0\n",
    "    x = 0\n",
    "    for ingredient in sandwichIngredients:\n",
    "        ingredient_cost = ingredient[\"marketUnitPrice\"] *ingredient[\"recipeUnitConversion\"]\n",
    "        individual_ingredient_cost_total = ingredient_cost*quantities[x]\n",
    "        sandwich_cost = sandwich_cost + individual_ingredient_cost_total \n",
    "        x = x + 1\n",
    "    print(str(description)+ \"Cost : $\" + str(round(sandwich_cost, 2)))\n",
    "\n",
    "calculateSandwichCost(\"Today's \" + \"Single Burger No Cheese \", hamburger, singleBurgerQuantities)\n",
    "calculateSandwichCost(\"Today's \" + \"Double CheeseBurger \", hamburger, doubleCheeseBurgerQuantities)\n",
    "calculateSandwichCost(\"Today's \" + \"Chicken Sandwich no Tomato \", chickFilASandwich, simpleChickQuantities)\n"
   ]
  },
  {
   "cell_type": "markdown",
   "metadata": {},
   "source": [
    "## Converting comma separated elements from string ( database textfield) to list of Floats"
   ]
  },
  {
   "cell_type": "code",
   "execution_count": 1,
   "metadata": {},
   "outputs": [
    {
     "data": {
      "text/plain": [
       "[0.5, 1.0, 0.75]"
      ]
     },
     "execution_count": 1,
     "metadata": {},
     "output_type": "execute_result"
    }
   ],
   "source": [
    "recipeQuantities = \"0.5, 1, 0.75\"\n",
    "def charfieldToFloatList(quantities):\n",
    "    # map applies the float conversion function to all elements in the list created by .split method \n",
    "    return list(map(float, quantities.split(',')))\n",
    "   \n",
    "\n",
    "charfieldToFloatList(recipeQuantities)\n",
    "\n",
    "    "
   ]
  },
  {
   "cell_type": "markdown",
   "metadata": {
    "collapsed": true
   },
   "source": [
    "# List Multiplication without Numpy"
   ]
  },
  {
   "cell_type": "code",
   "execution_count": 31,
   "metadata": {},
   "outputs": [
    {
     "name": "stdout",
     "output_type": "stream",
     "text": [
      "5\n",
      "6\n",
      "14\n",
      "16\n"
     ]
    }
   ],
   "source": [
    "q = [1,1,2,2]\n",
    "x = [5,6,7,8]\n",
    "d=0\n",
    "for i in q: \n",
    "    print (i * x[d])\n",
    "    d= d + 1"
   ]
  },
  {
   "cell_type": "markdown",
   "metadata": {},
   "source": [
    "# Numpy Array multiplication"
   ]
  },
  {
   "cell_type": "code",
   "execution_count": 18,
   "metadata": {},
   "outputs": [
    {
     "name": "stdout",
     "output_type": "stream",
     "text": [
      "[12  4  1]\n"
     ]
    }
   ],
   "source": [
    "import numpy as np\n",
    "x = np.array([3, 2, 1])\n",
    "y = np.array([4, 2 , 1])\n",
    "\n",
    "z = x * y\n",
    "print (z)"
   ]
  },
  {
   "cell_type": "code",
   "execution_count": null,
   "metadata": {
    "collapsed": true
   },
   "outputs": [],
   "source": []
  }
 ],
 "metadata": {
  "kernelspec": {
   "display_name": "Python 3 (ipykernel)",
   "language": "python",
   "name": "python3"
  },
  "language_info": {
   "codemirror_mode": {
    "name": "ipython",
    "version": 3
   },
   "file_extension": ".py",
   "mimetype": "text/x-python",
   "name": "python",
   "nbconvert_exporter": "python",
   "pygments_lexer": "ipython3",
   "version": "3.11.3"
  }
 },
 "nbformat": 4,
 "nbformat_minor": 1
}
